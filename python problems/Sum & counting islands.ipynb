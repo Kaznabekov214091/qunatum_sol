{
 "cells": [
  {
   "cell_type": "markdown",
   "id": "2c1a25b9",
   "metadata": {},
   "source": [
    "# 1.\tWhat is FOR loop?\n",
    "\n",
    "You have a positive integer number N as an input. Please write a program in Python 3 that calculates the sum in range 1 and N.\n"
   ]
  },
  {
   "cell_type": "code",
   "execution_count": 6,
   "id": "9d6503fa",
   "metadata": {},
   "outputs": [],
   "source": [
    "class Solution:\n",
    "    def __init__(self,number):\n",
    "        self.n=number\n",
    "    #Loop\n",
    "    def looping(self):\n",
    "        sum=0\n",
    "        for i in range(1,self.n+1):\n",
    "            sum+=i\n",
    "        return sum\n",
    "    #math approach\n",
    "    def sum_n(self):\n",
    "        return (self.n*(self.n+1))/2"
   ]
  },
  {
   "cell_type": "markdown",
   "id": "4f368238",
   "metadata": {},
   "source": [
    "#Examples:\n",
    "\n",
    "Input: 1\n",
    "Output: 1\n",
    "\n",
    "Input: 3\n",
    "Output: 6\n",
    "\n",
    "Input 10:\n",
    "Output: 55\n"
   ]
  },
  {
   "cell_type": "markdown",
   "id": "6d2d0da4",
   "metadata": {},
   "source": [
    "# testing"
   ]
  },
  {
   "cell_type": "code",
   "execution_count": 7,
   "id": "3b51592f",
   "metadata": {},
   "outputs": [],
   "source": [
    "solution=Solution(10)"
   ]
  },
  {
   "cell_type": "code",
   "execution_count": 8,
   "id": "66a9b974",
   "metadata": {},
   "outputs": [
    {
     "data": {
      "text/plain": [
       "55"
      ]
     },
     "execution_count": 8,
     "metadata": {},
     "output_type": "execute_result"
    }
   ],
   "source": [
    "solution.looping()"
   ]
  },
  {
   "cell_type": "code",
   "execution_count": 9,
   "id": "2b23f818",
   "metadata": {},
   "outputs": [
    {
     "data": {
      "text/plain": [
       "55.0"
      ]
     },
     "execution_count": 9,
     "metadata": {},
     "output_type": "execute_result"
    }
   ],
   "source": [
    "solution.sum_n()"
   ]
  },
  {
   "cell_type": "markdown",
   "id": "14578b24",
   "metadata": {},
   "source": [
    "# 2.\tCounting islands\n",
    "\n",
    "You have a matrix MxN that represents a map. There are 2 possible states on the map: 1 - islands, 0 - ocean. Your task is to calculate the number of islands in the most effective way. Please write code \n",
    "\n",
    "Inputs:\n",
    "M N\n",
    "Matrix\n",
    "\n",
    "\n",
    "Examples:\n",
    "Input:\n",
    "3 3\n",
    "\n",
    "0 1 0\n",
    "\n",
    "0 0 0\n",
    "\n",
    "0 1 1\n",
    "\n",
    "Output: 2\n",
    "\n",
    "Input:\n",
    "3 4 \n",
    "\n",
    "0 0 0 1\n",
    "\n",
    "0 0 1 0\n",
    "\n",
    "0 1 0 0\n",
    "\n",
    "Output: 3\n",
    "\n"
   ]
  },
  {
   "cell_type": "code",
   "execution_count": 10,
   "id": "2aea7119",
   "metadata": {},
   "outputs": [],
   "source": [
    "def number_of_islands(grid):\n",
    "    def dfs(i, j):\n",
    "        if i < 0 or i >= m or j < 0 or j >= n or (i, j) in visited or grid[i][j] == '0':\n",
    "            return\n",
    "        visited.add((i, j))\n",
    "        dfs(i + 1, j)\n",
    "        dfs(i - 1, j)\n",
    "        dfs(i, j + 1)\n",
    "        dfs(i, j - 1)\n",
    "\n",
    "    m, n = len(grid), len(grid[0])\n",
    "    visited = set()\n",
    "    ans = 0\n",
    "    for i in range(m):\n",
    "        for j in range(n):\n",
    "            if (i, j) not in visited and grid[i][j] == '1':\n",
    "                ans += 1\n",
    "                dfs(i, j)\n",
    "    return ans"
   ]
  },
  {
   "cell_type": "markdown",
   "id": "31834537",
   "metadata": {},
   "source": [
    "# Testing"
   ]
  },
  {
   "cell_type": "code",
   "execution_count": 21,
   "id": "2e6b0055",
   "metadata": {},
   "outputs": [],
   "source": [
    "input1= [\n",
    "  [\"0\",\"1\",\"0\"],\n",
    "  [\"0\",\"0\",\"0\"],\n",
    "  [\"0\",\"1\",\"1\"],\n",
    "]\n",
    "\n",
    "\n",
    "input2= [\n",
    "  [\"0\",\"0\",\"0\",\"1\"],\n",
    "  [\"0\",\"0\",\"1\",\"0\"],\n",
    "  [\"0\",\"1\",\"0\",\"0\"],\n",
    "]\n",
    "input3=[\n",
    "  [\"0\",\"0\",\"0\",\"1\"],\n",
    "  [\"0\",\"0\",\"1\",\"1\"],\n",
    "  [\"0\",\"1\",\"0\",\"1\"],\n",
    "]"
   ]
  },
  {
   "cell_type": "code",
   "execution_count": 22,
   "id": "43a16f97",
   "metadata": {},
   "outputs": [
    {
     "data": {
      "text/plain": [
       "2"
      ]
     },
     "execution_count": 22,
     "metadata": {},
     "output_type": "execute_result"
    }
   ],
   "source": [
    "number_of_islands(input1)"
   ]
  },
  {
   "cell_type": "code",
   "execution_count": 23,
   "id": "bdd9729c",
   "metadata": {},
   "outputs": [
    {
     "data": {
      "text/plain": [
       "3"
      ]
     },
     "execution_count": 23,
     "metadata": {},
     "output_type": "execute_result"
    }
   ],
   "source": [
    "number_of_islands(input2)"
   ]
  },
  {
   "cell_type": "code",
   "execution_count": 24,
   "id": "c7453378",
   "metadata": {},
   "outputs": [
    {
     "data": {
      "text/plain": [
       "2"
      ]
     },
     "execution_count": 24,
     "metadata": {},
     "output_type": "execute_result"
    }
   ],
   "source": [
    "number_of_islands(input3)"
   ]
  },
  {
   "cell_type": "code",
   "execution_count": null,
   "id": "d919ba98",
   "metadata": {},
   "outputs": [],
   "source": []
  }
 ],
 "metadata": {
  "kernelspec": {
   "display_name": "Python 3 (ipykernel)",
   "language": "python",
   "name": "python3"
  },
  "language_info": {
   "codemirror_mode": {
    "name": "ipython",
    "version": 3
   },
   "file_extension": ".py",
   "mimetype": "text/x-python",
   "name": "python",
   "nbconvert_exporter": "python",
   "pygments_lexer": "ipython3",
   "version": "3.10.2"
  }
 },
 "nbformat": 4,
 "nbformat_minor": 5
}
